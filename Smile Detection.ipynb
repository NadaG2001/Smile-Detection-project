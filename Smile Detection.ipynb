{
 "cells": [
  {
   "cell_type": "markdown",
   "id": "fb6bbe4a",
   "metadata": {},
   "source": [
    "## This is an image Processing Project => (Smile Detection)"
   ]
  },
  {
   "cell_type": "markdown",
   "id": "4535d75e",
   "metadata": {},
   "source": [
    "in This notebook I will make a smile detection Algorithm using opencv"
   ]
  },
  {
   "cell_type": "markdown",
   "id": "83f6d3bf",
   "metadata": {},
   "source": [
    "### installation =>"
   ]
  },
  {
   "cell_type": "markdown",
   "id": "cae0a2a8",
   "metadata": {},
   "source": [
    "- opencv-python\n",
    "- haarcascade_frontalface_default.xml\n",
    "- haarcascade_smile.xml"
   ]
  },
  {
   "cell_type": "code",
   "execution_count": 14,
   "id": "0acae5d6",
   "metadata": {},
   "outputs": [],
   "source": [
    "import cv2\n",
    "\n",
    "cascade_face = cv2.CascadeClassifier('haarcascade_frontalface_default.xml')\n",
    "cascade_smile = cv2.CascadeClassifier('haarcascade_smile.xml')\n",
    "\n",
    "cap = cv2.VideoCapture(0)\n",
    "\n",
    "while True:\n",
    "    ret, img = cap.read()\n",
    "    g = cv2.cvtColor(img, cv2.COLOR_BGR2GRAY)\n",
    "    f = cascade_face.detectMultiScale(\n",
    "        g,\n",
    "        scaleFactor=1.3,\n",
    "        minNeighbors=5,\n",
    "        minSize=(30, 30),\n",
    "\n",
    "    )\n",
    "    for (x, y, w, h) in f:\n",
    "        cv2.rectangle(img, (x, y), (x+w, y+h), (255, 0, 0), 2)\n",
    "        gray_r = g[y: y+h, x: x+w]\n",
    "\n",
    "        s = cascade_smile.detectMultiScale(\n",
    "            gray_r,\n",
    "            scaleFactor=1.5,\n",
    "            minNeighbors=15,\n",
    "            minSize=(25, 25),\n",
    "\n",
    "        )\n",
    "\n",
    "        for i in s:\n",
    "            if len(s) > 1:\n",
    "                cv2.putText(img, 'Smilling', (x, y - 30),\n",
    "                            cv2.FONT_HERSHEY_SIMPLEX, 1, (0, 255, 0), 2, cv2.LINE_AA)\n",
    "\n",
    "    cv2.imshow('video', img)\n",
    "    k = cv2.waitKey(30) & 0xff\n",
    "    if k == 27:\n",
    "        break\n",
    "\n",
    "cap.release()\n",
    "cv2.destroyAllWindows()\n"
   ]
  },
  {
   "cell_type": "code",
   "execution_count": null,
   "id": "2c62bfb2",
   "metadata": {},
   "outputs": [],
   "source": []
  }
 ],
 "metadata": {
  "kernelspec": {
   "display_name": "Python 3 (ipykernel)",
   "language": "python",
   "name": "python3"
  },
  "language_info": {
   "codemirror_mode": {
    "name": "ipython",
    "version": 3
   },
   "file_extension": ".py",
   "mimetype": "text/x-python",
   "name": "python",
   "nbconvert_exporter": "python",
   "pygments_lexer": "ipython3",
   "version": "3.9.12"
  }
 },
 "nbformat": 4,
 "nbformat_minor": 5
}
